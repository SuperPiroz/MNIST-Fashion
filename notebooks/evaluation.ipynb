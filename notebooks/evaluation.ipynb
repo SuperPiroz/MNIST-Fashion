{
 "cells": [
  {
   "cell_type": "markdown",
   "metadata": {},
   "source": [
    "# Evaluation\n",
    "\n",
    "### Here is the scores for all models after an gridserch  and optuna evaluation and the a full training round. "
   ]
  },
  {
   "cell_type": "markdown",
   "metadata": {},
   "source": [
    "## Model One\n",
    "\n",
    "![](../src/models/model_one/Figure_1.png)"
   ]
  },
  {
   "cell_type": "markdown",
   "metadata": {},
   "source": [
    "![Confusion Matrix](/home/piroz/DEV/AI-kursen/fashion_mnist_project/src/models/model_one/confmatrix_1.png)"
   ]
  },
  {
   "cell_type": "markdown",
   "metadata": {},
   "source": [
    "## Model One Training Results\n",
    "\n",
    "### Test Accuracy: 86%\n",
    "\n",
    "### Classification Report\n",
    "\n",
    "| Class | Precision | Recall | F1-Score | Support |\n",
    "|-------|-----------|--------|----------|---------|\n",
    "| 0     | 0.76      | 0.85   | 0.80     | 1000    |\n",
    "| 1     | 0.98      | 0.98   | 0.98     | 1000    |\n",
    "| 2     | 0.79      | 0.79   | 0.79     | 1000    |\n",
    "| 3     | 0.92      | 0.81   | 0.86     | 1000    |\n",
    "| 4     | 0.82      | 0.73   | 0.78     | 1000    |\n",
    "| 5     | 0.96      | 0.94   | 0.95     | 1000    |\n",
    "| 6     | 0.59      | 0.62   | 0.61     | 1000    |\n",
    "| 7     | 0.91      | 0.92   | 0.92     | 1000    |\n",
    "| 8     | 0.91      | 0.98   | 0.95     | 1000    |\n",
    "| 9     | 0.94      | 0.95   | 0.94     | 1000    |\n",
    "\n",
    "### Overall Metrics\n",
    "- **Accuracy**: 0.86\n",
    "- **Macro Average**: 0.86 (Precision), 0.86 (Recall), 0.86 (F1-Score)\n",
    "- **Weighted Average**: 0.86 (Precision), 0.86 (Recall), 0.86 (F1-Score)\n"
   ]
  },
  {
   "cell_type": "markdown",
   "metadata": {},
   "source": [
    "## Model Two"
   ]
  },
  {
   "cell_type": "markdown",
   "metadata": {},
   "source": [
    "![](/home/piroz/DEV/AI-kursen/fashion_mnist_project/src/models/model_two/Figure_1.png)"
   ]
  },
  {
   "cell_type": "markdown",
   "metadata": {},
   "source": [
    "![](/home/piroz/DEV/AI-kursen/fashion_mnist_project/src/models/model_two/confM_2.png)"
   ]
  },
  {
   "cell_type": "markdown",
   "metadata": {},
   "source": [
    "## Model Two Training Results\n",
    "\n",
    "### Test Accuracy: 88%\n",
    "\n",
    "### Classification Report\n",
    "\n",
    "| Klass | Precision | Recall | F1-Score |\n",
    "|-------|-----------|--------|----------|\n",
    "| 0 | 0.82 | 0.82 | 0.82 |\n",
    "| 1 | 1.00 | 0.97 | 0.98 |\n",
    "| 2 | 0.91 | 0.74 | 0.82 |\n",
    "| 3 | 0.94 | 0.82 | 0.88 |\n",
    "| 4 | 0.80 | 0.85 | 0.82 |\n",
    "| 5 | 0.98 | 0.94 | 0.96 |\n",
    "| 6 | 0.60 | 0.73 | 0.66 |\n",
    "| 7 | 0.89 | 0.97 | 0.93 |\n",
    "| 8 | 0.93 | 0.99 | 0.96 |\n",
    "| 9 | 0.97 | 0.94 | 0.95 |\n",
    "Sammanfattande Mätvärden\n",
    "Accuracy: 0.88\n",
    "Macro Avg: 0.89 (precision), 0.88 (recall), 0.88 (f1-score)\n",
    "Weighted Avg: 0.89 (precision), 0.88 (recall), 0.88 (f1-score)"
   ]
  },
  {
   "cell_type": "markdown",
   "metadata": {},
   "source": [
    "# Improving Classification Performance for Fashion MNIST\n",
    "\n",
    "## Problem Analysis: Class 6 (Shirts)\n",
    "\n",
    "### Issue Identification\n",
    "In both our CNN models (model_one and model_two), we observed significantly lower performance in classifying Class 6 (Shirts):\n",
    "\n",
    "**Model One Performance:**\n",
    "- Overall accuracy: 86%\n",
    "- Class 6 F1-score: 61%\n",
    "\n",
    "**Model Two Performance:**\n",
    "- Overall accuracy: 88%\n",
    "- Class 6 F1-score: 66%\n",
    "\n",
    "![](/home/piroz/DEV/AI-kursen/fashion_mnist_project/outputs/Fashion-MNIST-Dataset-Images-with-Labels-and-Description-II-LITERATURE-REVIEW-In-image.png)\n",
    "\n",
    "### Root Cause Analysis\n",
    "The poor performance in shirt classification can be attributed to high similarity with other clothing items:\n",
    "1. Shirts can look similar to T-shirts (Class 0)\n",
    "2. Shirts can be confused with Pullovers (Class 2)\n",
    "3. Shirts may resemble Coats (Class 4)\n",
    "\n",
    "This visual similarity creates classification challenges, particularly in grayscale images where texture and subtle details are less distinct.\n",
    "\n",
    "## Solution: Enhanced Training for Class 6\n",
    "\n",
    "### Approach: Targeted Class Weighting and Augmentation\n",
    "\n",
    "#### 1. Class Weight Implementation\n",
    "- Assign higher weight to Class 6 during training\n",
    "- Maintain standard weights for other classes\n",
    "- This forces the model to pay more attention to shirt samples\n",
    "\n",
    "```python\n",
    "class_weights = {\n",
    "    6: 2.0,    # Double importance for shirts\n",
    "    0: 1.0,    # Normal weight for other classes\n",
    "    1: 1.0,\n",
    "    2: 1.0,\n",
    "    3: 1.0,\n",
    "    4: 1.0,\n",
    "    5: 1.0,\n",
    "    7: 1.0,\n",
    "    8: 1.0,\n",
    "    9: 1.0\n",
    "}\n",
    "```\n",
    "\n",
    "#### 2. Specialized Data Augmentation\n",
    "- Implement enhanced augmentation specifically for shirt images\n",
    "- Include more aggressive transformations to create varied shirt samples\n",
    "- Help the model learn robust shirt features\n",
    "\n",
    "```python\n",
    "shirt_augmentation = ImageDataGenerator(\n",
    "    rotation_range=15,\n",
    "    width_shift_range=0.2,\n",
    "    height_shift_range=0.2,\n",
    "    zoom_range=0.2,\n",
    "    brightness_range=[0.8, 1.2],\n",
    "    horizontal_flip=True\n",
    ")\n",
    "```\n",
    "\n"
   ]
  },
  {
   "cell_type": "markdown",
   "metadata": {},
   "source": [
    "#                                                     ROND 2"
   ]
  },
  {
   "cell_type": "markdown",
   "metadata": {},
   "source": [
    "## Modified Model One"
   ]
  },
  {
   "cell_type": "markdown",
   "metadata": {},
   "source": [
    "![](/home/piroz/DEV/AI-kursen/fashion_mnist_project/src/models/model_one/Figure_1modified.png)"
   ]
  },
  {
   "cell_type": "markdown",
   "metadata": {},
   "source": [
    "![](/home/piroz/DEV/AI-kursen/fashion_mnist_project/src/models/model_one/congmatrix_1_modified.png)"
   ]
  },
  {
   "cell_type": "markdown",
   "metadata": {},
   "source": [
    "## Modified Model One Training Results\n",
    "\n",
    "### Test Accuracy: 90%\n",
    "\n",
    "### Classification Report\n",
    "\n",
    "| Klass | Precision | Recall | F1-Score |\n",
    "|-------|-----------|--------|----------|\n",
    "| 0 | 0.82 | 0.88 | 0.85 |\n",
    "| 1 | 0.99 | 0.98 | 0.99 |\n",
    "| 2 | 0.90 | 0.82 | 0.86 |\n",
    "| 3 | 0.93 | 0.91 | 0.92 |\n",
    "| 4 | 0.81 | 0.88 | 0.84 |\n",
    "| 5 | 0.99 | 0.95 | 0.97 |\n",
    "| 6 | 0.71 | 0.67 | 0.69 |\n",
    "| 7 | 0.91 | 0.97 | 0.94 |\n",
    "| 8 | 0.97 | 0.99 | 0.98 |\n",
    "| 9 | 0.98 | 0.95 | 0.96 |\n",
    "Sammanfattande Mätvärden\n",
    "Accuracy: 0.90\n",
    "Macro Avg: 0.90 (precision), 0.90 (recall), 0.90 (f1-score)\n",
    "Weighted Avg: 0.90 (precision), 0.90 (recall), 0.90 (f1-score)"
   ]
  },
  {
   "cell_type": "markdown",
   "metadata": {},
   "source": [
    "## Modified Model Two"
   ]
  },
  {
   "cell_type": "markdown",
   "metadata": {},
   "source": [
    "![](/home/piroz/DEV/AI-kursen/fashion_mnist_project/src/models/model_two/Figure_1_modified.png)"
   ]
  },
  {
   "cell_type": "markdown",
   "metadata": {},
   "source": [
    "![](/home/piroz/DEV/AI-kursen/fashion_mnist_project/src/models/model_two/confM_2_modiffied.png)"
   ]
  },
  {
   "cell_type": "markdown",
   "metadata": {},
   "source": [
    "## Modified Model Two Training Results\n",
    "\n",
    "### Test Accuracy: 90%\n",
    "\n",
    "### Classification Report\n",
    "| Klass | Precision | Recall | F1-Score |\n",
    "|-------|-----------|--------|----------|\n",
    "| 0 | 0.80 | 0.90 | 0.85 |\n",
    "| 1 | 0.99 | 0.98 | 0.99 |\n",
    "| 2 | 0.86 | 0.88 | 0.87 |\n",
    "| 3 | 0.91 | 0.92 | 0.92 |\n",
    "| 4 | 0.80 | 0.87 | 0.83 |\n",
    "| 5 | 0.99 | 0.95 | 0.97 |\n",
    "| 6 | 0.75 | 0.56 | 0.64 |\n",
    "| 7 | 0.91 | 0.98 | 0.94 |\n",
    "| 8 | 0.97 | 0.99 | 0.98 |\n",
    "| 9 | 0.98 | 0.95 | 0.96 |\n",
    "Sammanfattande Mätvärden\n",
    "Accuracy: 0.90\n",
    "Macro Avg: 0.90 (precision), 0.90 (recall), 0.89 (f1-score)\n",
    "Weighted Avg: 0.90 (precision), 0.90 (recall), 0.89 (f1-score)"
   ]
  }
 ],
 "metadata": {
  "kernelspec": {
   "display_name": "venv",
   "language": "python",
   "name": "python3"
  },
  "language_info": {
   "codemirror_mode": {
    "name": "ipython",
    "version": 3
   },
   "file_extension": ".py",
   "mimetype": "text/x-python",
   "name": "python",
   "nbconvert_exporter": "python",
   "pygments_lexer": "ipython3",
   "version": "3.12.7"
  }
 },
 "nbformat": 4,
 "nbformat_minor": 2
}
