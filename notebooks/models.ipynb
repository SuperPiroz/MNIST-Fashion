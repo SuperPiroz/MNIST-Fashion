{
 "cells": [
  {
   "cell_type": "markdown",
   "metadata": {},
   "source": [
    "![](/home/piroz/DEV/AI-kursen/fashion_mnist_project/outputs/2Models.png)"
   ]
  },
  {
   "cell_type": "markdown",
   "metadata": {},
   "source": [
    "# Core CNN Components  \n",
    "\n",
    "🔹 **Conv2D**  \n",
    "- Detects patterns (edges, textures) via sliding filters.  \n",
    "- Example: Vertical line detection.  \n",
    "\n",
    "🔹 **BatchNorm**  \n",
    "- Normalizes layer outputs for faster, stable training.  \n",
    "\n",
    "🔹 **ReLU**  \n",
    "- Activation: `max(0, x)`. Adds non-linearity.  \n",
    "\n",
    "🔹 **MaxPooling2D**  \n",
    "- Downsamples by taking max in 2x2 regions (e.g., `[[2,1],[3,0]] → 3`).  \n",
    "\n",
    "🔹 **Dropout**  \n",
    "- Randomly disables neurons (20-50%) to prevent overfitting.  \n",
    "\n",
    "🔹 **Dense Layer**  \n",
    "- Fully connected for classification (e.g., `units=128` = 128 neurons).  \n",
    "\n",
    "🔹 **RMSprop**  \n",
    "- Adaptive optimizer with tunable learning rate (`lr=0.001` default).  \n",
    "- Small `lr` = stable, large `lr` = faster but risky.  "
   ]
  }
 ],
 "metadata": {
  "language_info": {
   "name": "python"
  }
 },
 "nbformat": 4,
 "nbformat_minor": 2
}
